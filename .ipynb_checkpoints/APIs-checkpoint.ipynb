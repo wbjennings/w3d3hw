{
 "cells": [
  {
   "cell_type": "markdown",
   "metadata": {},
   "source": [
    "# APIs\n"
   ]
  },
  {
   "cell_type": "markdown",
   "metadata": {},
   "source": [
    "## Tasks Today:\n",
    "1) <b>Requests and the pokemon API </b> <br>\n",
    " "
   ]
  },
  {
   "cell_type": "markdown",
   "metadata": {},
   "source": [
    "# working with APis"
   ]
  },
  {
   "cell_type": "markdown",
   "metadata": {},
   "source": [
    "<p> What exactly is an API? <br> <br>\n",
    "API is the acronym for Application Programming Interface, which is a software intermediary that allows two applications to talk to each other. Each time you use an app like Facebook, send an instant message, or check the weather on your phone, you're using an API. </p>"
   ]
  },
  {
   "cell_type": "markdown",
   "metadata": {},
   "source": [
    "### The Poke API  allows you to retreive a pokemon's information from PokeAPI https://pokeapi.co/\n",
    "\n"
   ]
  },
  {
   "cell_type": "code",
   "execution_count": 6,
   "metadata": {},
   "outputs": [
    {
     "name": "stdout",
     "output_type": "stream",
     "text": [
      "What Pokemon are you looking for?: pikachu\n",
      "Success\n"
     ]
    }
   ],
   "source": [
    "# making an API call\n",
    "import requests\n",
    "\n",
    "api_endpoint = 'https://pokeapi.co/api/v2/pokemon/'\n",
    "\n",
    "#requests.get(api_endpoint + 'charizard').json()\n",
    "\n",
    "pokemon = input('What Pokemon are you looking for?: ')\n",
    "\n",
    "response = requests.get(f'{api_endpoint}{pokemon}')\n",
    "\n",
    "response.status_code\n",
    "\n",
    "if response.status_code == 200:\n",
    "    data = response.json()\n",
    "    print(\"Success\")\n",
    "else:\n",
    "    print(f\"Error, Status Code {response.status_code}\")"
   ]
  },
  {
   "cell_type": "markdown",
   "metadata": {},
   "source": [
    "### Display a Pokemon's name, weight, abilities, and types"
   ]
  },
  {
   "cell_type": "code",
   "execution_count": 6,
   "metadata": {},
   "outputs": [
    {
     "data": {
      "text/plain": [
       "'charizard'"
      ]
     },
     "execution_count": 6,
     "metadata": {},
     "output_type": "execute_result"
    }
   ],
   "source": [
    "# get the name\n",
    "data['forms'][0]['name']"
   ]
  },
  {
   "cell_type": "code",
   "execution_count": 7,
   "metadata": {},
   "outputs": [
    {
     "data": {
      "text/plain": [
       "[{'slot': 1,\n",
       "  'type': {'name': 'fire', 'url': 'https://pokeapi.co/api/v2/type/10/'}},\n",
       " {'slot': 2,\n",
       "  'type': {'name': 'flying', 'url': 'https://pokeapi.co/api/v2/type/3/'}}]"
      ]
     },
     "execution_count": 7,
     "metadata": {},
     "output_type": "execute_result"
    }
   ],
   "source": [
    "# get types\n",
    "data['types']"
   ]
  },
  {
   "cell_type": "code",
   "execution_count": 8,
   "metadata": {},
   "outputs": [
    {
     "data": {
      "text/plain": [
       "905"
      ]
     },
     "execution_count": 8,
     "metadata": {},
     "output_type": "execute_result"
    }
   ],
   "source": [
    "# get weight\n",
    "data['weight']"
   ]
  },
  {
   "cell_type": "code",
   "execution_count": 10,
   "metadata": {},
   "outputs": [],
   "source": [
    "# get abilities\n",
    "abilities = data['abilities']"
   ]
  },
  {
   "cell_type": "code",
   "execution_count": 13,
   "metadata": {},
   "outputs": [
    {
     "data": {
      "text/plain": [
       "['blaze', 'solar-power']"
      ]
     },
     "execution_count": 13,
     "metadata": {},
     "output_type": "execute_result"
    }
   ],
   "source": [
    "#name of every ability\n",
    "[ability_dict['ability']['name'] for ability_dict in abilities]"
   ]
  },
  {
   "cell_type": "code",
   "execution_count": 6,
   "metadata": {},
   "outputs": [],
   "source": [
    "# Create a structure for a single pokemon\n"
   ]
  },
  {
   "cell_type": "code",
   "execution_count": 60,
   "metadata": {},
   "outputs": [
    {
     "name": "stdout",
     "output_type": "stream",
     "text": [
      "{'name': 'charizard', 'type': [{'slot': 1, 'type': {'name': 'fire', 'url': 'https://pokeapi.co/api/v2/type/10/'}}, {'slot': 2, 'type': {'name': 'flying', 'url': 'https://pokeapi.co/api/v2/type/3/'}}], 'weight': 905, 'abilities': [{'ability': {'name': 'blaze', 'url': 'https://pokeapi.co/api/v2/ability/66/'}, 'is_hidden': False, 'slot': 1}, {'ability': {'name': 'solar-power', 'url': 'https://pokeapi.co/api/v2/ability/94/'}, 'is_hidden': True, 'slot': 3}]}\n"
     ]
    }
   ],
   "source": [
    "\n",
    "pokemon = {\n",
    "    'name' : data['name'],\n",
    "    'type' : data['types'],\n",
    "    'weight' : data['weight'],\n",
    "    'abilities' : data['abilities']\n",
    "}\n",
    "print(pokemon)"
   ]
  },
  {
   "cell_type": "code",
   "execution_count": 10,
   "metadata": {},
   "outputs": [],
   "source": [
    "def poke_api_call(pokemon):\n",
    "    response = requests.get(f'https://pokeapi.co/api/v2/{pokemon}')\n",
    "    if response.status_code == 200:\n",
    "        print('Success')\n",
    "        data = response.json()\n",
    "        pokemon_dict = {\n",
    "            'abilities' : [ability_object['ability']['name'] for ability_object in data['abilities']],\n",
    "            'name' : data['name'],\n",
    "            'types' : data['types'],\n",
    "            'weight' : data['weight']\n",
    "        }\n",
    "    else:\n",
    "        print(f'Error bad request {response.status_code}')\n",
    "    return pokemon_dict"
   ]
  },
  {
   "cell_type": "markdown",
   "metadata": {},
   "source": [
    "#### Create a function to Pull in your own Pokemon's data "
   ]
  },
  {
   "cell_type": "code",
   "execution_count": 12,
   "metadata": {},
   "outputs": [
    {
     "name": "stdout",
     "output_type": "stream",
     "text": [
      "Search a Pokemonpikachu\n",
      "Success\n"
     ]
    },
    {
     "data": {
      "text/plain": [
       "{'name': 'pikachu',\n",
       " 'abilities': [{'ability': {'name': 'static',\n",
       "    'url': 'https://pokeapi.co/api/v2/ability/9/'},\n",
       "   'is_hidden': False,\n",
       "   'slot': 1},\n",
       "  {'ability': {'name': 'lightning-rod',\n",
       "    'url': 'https://pokeapi.co/api/v2/ability/31/'},\n",
       "   'is_hidden': True,\n",
       "   'slot': 3}],\n",
       " 'types': [{'slot': 1,\n",
       "   'type': {'name': 'electric', 'url': 'https://pokeapi.co/api/v2/type/13/'}}],\n",
       " 'weight': 60}"
      ]
     },
     "execution_count": 12,
     "metadata": {},
     "output_type": "execute_result"
    }
   ],
   "source": [
    "#access api endpoing with pokemon input\n",
    "#check  status\n",
    "# access dict keys \n",
    "#store those values in dict\n",
    "import requests\n",
    "\n",
    "def poke_api_call2(pokemon):\n",
    "    response = requests.get(f'https://pokeapi.co/api/v2/pokemon/{pokemon}')\n",
    "    if response.status_code == 200:\n",
    "        print('Success')\n",
    "        data = response.json()\n",
    "        pokemon_dict = {key:data[key] for key in ['name', 'abilities', 'types', 'weight']}\n",
    "    else:\n",
    "        print(f\"Error: Bad Request {response.status_code}\")\n",
    "    return pokemon_dict\n",
    "\n",
    "poke_api_call2(input(\"Search a Pokemon\"))"
   ]
  },
  {
   "cell_type": "markdown",
   "metadata": {},
   "source": [
    "Choose your pokemon"
   ]
  },
  {
   "cell_type": "code",
   "execution_count": 2,
   "metadata": {},
   "outputs": [
    {
     "name": "stdout",
     "output_type": "stream",
     "text": [
      "[495, 33, 432, 20, 628, 11]\n"
     ]
    }
   ],
   "source": [
    "from random import randint\n",
    "# Random number generated for each pokemon id\n",
    "random_team = [randint(1,898) for i in range(6)]\n",
    "print(random_team)\n",
    "#your_team = ['electabuzz', 'haunter','tyranitar','blaziken','marowak','dragonair']\n",
    "your_team_dict = ['electabuzz', 'haunter', 'tyranitar', 'blaziken', 'marowak', 'dragonair']\n"
   ]
  },
  {
   "cell_type": "markdown",
   "metadata": {},
   "source": [
    "#### Use your function to create a dictionary of your Johto League 6  (favorite 6 pokemon)"
   ]
  },
  {
   "cell_type": "code",
   "execution_count": 6,
   "metadata": {},
   "outputs": [
    {
     "name": "stdout",
     "output_type": "stream",
     "text": [
      "Error: Bad Request 404\n"
     ]
    },
    {
     "ename": "UnboundLocalError",
     "evalue": "local variable 'pokemon_dict' referenced before assignment",
     "output_type": "error",
     "traceback": [
      "\u001b[1;31m---------------------------------------------------------------------------\u001b[0m",
      "\u001b[1;31mUnboundLocalError\u001b[0m                         Traceback (most recent call last)",
      "\u001b[1;32m~\\AppData\\Local\\Temp\\ipykernel_23980\\3850385723.py\u001b[0m in \u001b[0;36m<module>\u001b[1;34m\u001b[0m\n\u001b[0;32m      3\u001b[0m \u001b[1;33m\u001b[0m\u001b[0m\n\u001b[0;32m      4\u001b[0m \u001b[1;32mfor\u001b[0m \u001b[0mi\u001b[0m \u001b[1;32min\u001b[0m \u001b[0mrandom_team\u001b[0m\u001b[1;33m:\u001b[0m\u001b[1;33m\u001b[0m\u001b[1;33m\u001b[0m\u001b[0m\n\u001b[1;32m----> 5\u001b[1;33m     \u001b[0mpoke_dict\u001b[0m \u001b[1;33m=\u001b[0m \u001b[0mpoke_api_call\u001b[0m\u001b[1;33m(\u001b[0m\u001b[0mi\u001b[0m\u001b[1;33m)\u001b[0m\u001b[1;33m\u001b[0m\u001b[1;33m\u001b[0m\u001b[0m\n\u001b[0m\u001b[0;32m      6\u001b[0m     \u001b[0mmy_six_pokemon\u001b[0m\u001b[1;33m[\u001b[0m\u001b[0mpoke_dict\u001b[0m\u001b[1;33m[\u001b[0m\u001b[1;34m'name'\u001b[0m\u001b[1;33m]\u001b[0m\u001b[1;33m]\u001b[0m \u001b[1;33m=\u001b[0m \u001b[0mpoke_dict\u001b[0m\u001b[1;33m\u001b[0m\u001b[1;33m\u001b[0m\u001b[0m\n\u001b[0;32m      7\u001b[0m \u001b[1;33m\u001b[0m\u001b[0m\n",
      "\u001b[1;32m~\\AppData\\Local\\Temp\\ipykernel_23980\\1811028030.py\u001b[0m in \u001b[0;36mpoke_api_call\u001b[1;34m(pokemon)\u001b[0m\n\u001b[0;32m     12\u001b[0m     \u001b[1;32melse\u001b[0m\u001b[1;33m:\u001b[0m\u001b[1;33m\u001b[0m\u001b[1;33m\u001b[0m\u001b[0m\n\u001b[0;32m     13\u001b[0m         \u001b[0mprint\u001b[0m\u001b[1;33m(\u001b[0m\u001b[1;34mf\"Error: Bad Request {response.status_code}\"\u001b[0m\u001b[1;33m)\u001b[0m\u001b[1;33m\u001b[0m\u001b[1;33m\u001b[0m\u001b[0m\n\u001b[1;32m---> 14\u001b[1;33m     \u001b[1;32mreturn\u001b[0m \u001b[0mpokemon_dict\u001b[0m\u001b[1;33m\u001b[0m\u001b[1;33m\u001b[0m\u001b[0m\n\u001b[0m\u001b[0;32m     15\u001b[0m \u001b[0mpoke_api_call\u001b[0m\u001b[1;33m(\u001b[0m\u001b[0minput\u001b[0m\u001b[1;33m(\u001b[0m\u001b[1;34m\"Search a Pokemon\"\u001b[0m\u001b[1;33m)\u001b[0m\u001b[1;33m)\u001b[0m\u001b[1;33m\u001b[0m\u001b[1;33m\u001b[0m\u001b[0m\n",
      "\u001b[1;31mUnboundLocalError\u001b[0m: local variable 'pokemon_dict' referenced before assignment"
     ]
    }
   ],
   "source": [
    "# Place all 6 of your pokemon on the object below, each pokemon should have at least as much info as Pikachu did.\n",
    "my_six_pokemon = {}\n",
    "\n",
    "for i in random_team:\n",
    "    poke_dict = poke_api_call(i)\n",
    "    my_six_pokemon[poke_dict['name']] = poke_dict\n",
    "    \n",
    "for k in my_six_pokemon:\n",
    "    print(k, ' ', my_six_pokemon(k))"
   ]
  },
  {
   "cell_type": "markdown",
   "metadata": {},
   "source": [
    "## Lets create a class called 'Pokemon' and create our pokemon as instances"
   ]
  },
  {
   "cell_type": "code",
   "execution_count": 32,
   "metadata": {},
   "outputs": [],
   "source": [
    "class Pokemon():\n",
    "    def __init__(self, name, nickname):\n",
    "        self.name = name\n",
    "        self.nickname = nickname\n",
    "        self.abilities = []\n",
    "        self.types = []\n",
    "        self.weight = None\n",
    "        self.image = None\n",
    "        self.call_poke_api()\n",
    "        \n",
    "    def call_poke_api(self):\n",
    "        response = requests.get(f'https://pokeapi.co/api/v2/pokemon/{self.name}')\n",
    "        if response.status_code == 200:\n",
    "            print(\"Success\")\n",
    "            data = response.json()\n",
    "            self.name = data['name']\n",
    "            self.abilities = [ability_object['ability']['name'] for ability_object in data['abilities']],\n",
    "            self.types = [type_object['type']['name'] for type_object in data['types']]\n",
    "            self.weight = data['weight']\n",
    "            self.image = data['sprites']['front_default']\n",
    "        else:\n",
    "            print(f'error status code {response.status_code}')"
   ]
  },
  {
   "cell_type": "code",
   "execution_count": 29,
   "metadata": {},
   "outputs": [
    {
     "name": "stdout",
     "output_type": "stream",
     "text": [
      "Success\n",
      "60\n"
     ]
    }
   ],
   "source": [
    "new_poke = Pokemon('pikachu', 'zappy rodent')\n",
    "new_poke.call_poke_api()\n",
    "print(new_poke.weight)"
   ]
  },
  {
   "cell_type": "code",
   "execution_count": 57,
   "metadata": {},
   "outputs": [
    {
     "name": "stdout",
     "output_type": "stream",
     "text": [
      "Success\n",
      "(['overgrow', 'chlorophyll'],)\n"
     ]
    }
   ],
   "source": [
    "another_poke = Pokemon('1', 'vine turtle')\n",
    "another_poke.image\n",
    "another_poke.name\n",
    "another_poke.abilities\n",
    "print(another_poke.abilities)"
   ]
  },
  {
   "cell_type": "code",
   "execution_count": 35,
   "metadata": {},
   "outputs": [
    {
     "data": {
      "image/png": "[encoded data removed]",
      "text/plain": [
       "<IPython.core.display.Image object>"
      ]
     },
     "metadata": {},
     "output_type": "display_data"
    }
   ],
   "source": [
    "from IPython.display import Image\n",
    "\n",
    "display(Image(another_poke.image))"
   ]
  },
  {
   "cell_type": "markdown",
   "metadata": {},
   "source": [
    "### Let's Catch some Pokemon"
   ]
  },
  {
   "cell_type": "code",
   "execution_count": 42,
   "metadata": {},
   "outputs": [],
   "source": [
    "dylans_pokemon = ['snorlax', 'psyduck', 'zapdos', 'hitmonlee']"
   ]
  },
  {
   "cell_type": "code",
   "execution_count": 43,
   "metadata": {},
   "outputs": [
    {
     "name": "stdout",
     "output_type": "stream",
     "text": [
      "Success\n",
      "Success\n",
      "Success\n",
      "Success\n",
      "{'snorlax': <__main__.Pokemon object at 0x000001E369D65790>, 'psyduck': <__main__.Pokemon object at 0x000001E36B4476D0>, 'zapdos': <__main__.Pokemon object at 0x000001E369DB34F0>, 'hitmonlee': <__main__.Pokemon object at 0x000001E36B463610>}\n"
     ]
    }
   ],
   "source": [
    "for pokemon in dylans_pokemon:\n",
    "    pokedex[pokemon] = Pokemon(pokemon, 'generic name')\n",
    "    \n",
    "print(pokedex)"
   ]
  },
  {
   "cell_type": "code",
   "execution_count": 44,
   "metadata": {},
   "outputs": [
    {
     "name": "stdout",
     "output_type": "stream",
     "text": [
      "Success\n",
      "Success\n",
      "Success\n",
      "Success\n"
     ]
    }
   ],
   "source": [
    "pokedex = {pokemon:Pokemon(pokemon,'nickname') for pokemon in dylans_pokemon}\n"
   ]
  },
  {
   "cell_type": "code",
   "execution_count": 46,
   "metadata": {},
   "outputs": [
    {
     "name": "stdout",
     "output_type": "stream",
     "text": [
      "Success\n"
     ]
    },
    {
     "data": {
      "text/plain": [
       "{'squirtle': <__main__.Pokemon at 0x1e36b5774c0>}"
      ]
     },
     "execution_count": 46,
     "metadata": {},
     "output_type": "execute_result"
    }
   ],
   "source": [
    "class Pokedex:\n",
    "    def __init__(self, username):\n",
    "        self.username = username\n",
    "        self.pokemon = {}\n",
    "        \n",
    "    def add_pokemon(self, pokemon):\n",
    "        self.pokemon[pokemon] = Pokemon(pokemon, 'monster')\n",
    "        \n",
    "new_pokedex = Pokedex('dylan')\n",
    "\n",
    "new_pokedex.add_pokemon('squirtle')\n",
    "\n",
    "new_pokedex.username\n",
    "\n",
    "new_pokedex.pokemon"
   ]
  },
  {
   "cell_type": "code",
   "execution_count": 54,
   "metadata": {},
   "outputs": [
    {
     "name": "stdout",
     "output_type": "stream",
     "text": [
      "dylan's pokemon:\n",
      "squirtle\n",
      "None\n"
     ]
    }
   ],
   "source": [
    "def print_user_pokemon(pokedex):\n",
    "    print(f'{pokedex.username}\\'s pokemon:')\n",
    "    for poke in pokedex.pokemon:\n",
    "        print(pokedex.pokemon[poke].name)\n",
    "print(print_user_pokemon(new_pokedex))"
   ]
  },
  {
   "cell_type": "markdown",
   "metadata": {},
   "source": [
    "## Exercise 1:"
   ]
  },
  {
   "cell_type": "markdown",
   "metadata": {},
   "source": [
    "### Create a Method prints an image of your pokemon\n",
    "\n",
    "<p>HINT: You may need another attribute as well to store your image url within. </p>"
   ]
  },
  {
   "cell_type": "code",
   "execution_count": 17,
   "metadata": {},
   "outputs": [
    {
     "data": {
      "image/png": "[encoded data removed]",
      "text/plain": [
       "<IPython.core.display.Image object>"
      ]
     },
     "metadata": {
      "image/png": {
       "width": 300
      }
     },
     "output_type": "display_data"
    }
   ],
   "source": [
    "# Display an image in Jupyter notebook\n",
    "from IPython.display import Image\n",
    "\n",
    "display(Image('https://raw.githubusercontent.com/PokeAPI/sprites/master/sprites/pokemon/6.png', width = 300))"
   ]
  },
  {
   "cell_type": "code",
   "execution_count": 55,
   "metadata": {},
   "outputs": [],
   "source": [
    "# recreate your pokemon class here\n",
    "class Pokemon():\n",
    "    def __init__(self, name, nickname):\n",
    "        self.name = name\n",
    "        self.nickname = nickname\n",
    "        self.abilities = []\n",
    "        self.types = []\n",
    "        self.weight = None\n",
    "        self.image = None\n",
    "        self.call_poke_api()\n",
    "        \n",
    "    def call_poke_api(self):\n",
    "        response = requests.get(f'https://pokeapi.co/api/v2/pokemon/{self.name}')\n",
    "        if response.status_code == 200:\n",
    "            print(\"Success\")\n",
    "            data = response.json()\n",
    "            self.name = data['name']\n",
    "            self.abilities = [ability_object['ability']['name'] for ability_object in data['abilities']],\n",
    "            self.types = [type_object['type']['name'] for type_object in data['types']]\n",
    "            self.weight = data['weight']\n",
    "            self.image = data['sprites']['front_default']\n",
    "        else:\n",
    "            print(f'error status code {response.status_code}')"
   ]
  },
  {
   "cell_type": "code",
   "execution_count": 59,
   "metadata": {},
   "outputs": [
    {
     "data": {
      "image/png": "[encoded data removed]",
      "text/plain": [
       "<IPython.core.display.Image object>"
      ]
     },
     "metadata": {},
     "output_type": "display_data"
    }
   ],
   "source": [
    "new_poke2 = Pokemon('1', 'pikachu')\n",
    "new_poke2.image\n",
    "new_poke2.name\n",
    "new_poke2.abilities\n",
    "\n",
    "display(Image(new_poke2.image))"
   ]
  },
  {
   "cell_type": "code",
   "execution_count": 18,
   "metadata": {},
   "outputs": [],
   "source": [
    "# Calling our new method\n"
   ]
  },
  {
   "cell_type": "markdown",
   "metadata": {},
   "source": [
    "## Exercise 2:"
   ]
  },
  {
   "cell_type": "markdown",
   "metadata": {},
   "source": [
    "### Create a Method that evolves your Pokemon\n",
    "If your pokemon can't evolve any further print a message that says \"\\<name of pokemon> can't evolve.\""
   ]
  },
  {
   "cell_type": "code",
   "execution_count": 5,
   "metadata": {},
   "outputs": [],
   "source": [
    "from requests import get\n",
    "\n",
    "class Pokemon():\n",
    "    def __init__(self, name):\n",
    "        self.name = name\n",
    "        self.abilities = []\n",
    "        self.types = []\n",
    "        self.weight = None\n",
    "        self.image = None\n",
    "        self.call_poke_api()\n",
    "        \n",
    "        \n",
    "    def call_poke_api(self):\n",
    "        response = get(f'https://pokeapi.co/api/v2/pokemon/{self.name}')\n",
    "        if response.status_code == 200:\n",
    "            print(\"Success\")\n",
    "            data = response.json()\n",
    "            self.name = data['name']\n",
    "            self.abilities = [ability_object['ability']['name'] for ability_object in data['abilities']],\n",
    "            self.types = [type_object['type']['name'] for type_object in data['types']]\n",
    "            self.weight = data['weight']\n",
    "            self.image = data['sprites']['front_default']\n",
    "            if not self.image:\n",
    "                self.image = data['sprites']['front_default']\n",
    "            self.species_url = data['species']['url']\n",
    "        else:\n",
    "            print(f'error status code {response.status_code}')\n",
    "            \n",
    "    def evolve(self, evolution_chain):\n",
    "        if not evolution_chain['evolves_to']:\n",
    "            print(f'This is the final form')\n",
    "            return\n",
    "        current_pokemon_in_chain = evolution_chain['species']['name']\n",
    "        next_pokemon_in_chain = evolution_chain['evolves_to'][0]['species']['name']\n",
    "        if current_pokemon_in_chain == self.name:\n",
    "            self.name = next_pokemon_in_chain\n",
    "            self.call_poke_api()\n",
    "            return\n",
    "        else:\n",
    "            return self.evolve(evolution_chain['evolves_to'][0])\n",
    "        \n",
    "        \n",
    "    def get_evolution_chain(self):\n",
    "        response = get(self.species_url)\n",
    "        if response.status_code == 200:\n",
    "            data = response.json()\n",
    "        evolution_chain_url = data['evolution_chain']['url']\n",
    "        evolution_chain = get(evolution_chain_url)\n",
    "        if evolution_chain.status_code == 200:\n",
    "            return evolution_chain.json()['chain']\n",
    "            \n",
    "            \n",
    "\n",
    "\n"
   ]
  },
  {
   "cell_type": "markdown",
   "metadata": {},
   "source": [
    "Now let's evolve a few"
   ]
  },
  {
   "cell_type": "code",
   "execution_count": 8,
   "metadata": {
    "scrolled": true
   },
   "outputs": [
    {
     "name": "stdout",
     "output_type": "stream",
     "text": [
      "Success\n",
      "bulbasaur\n"
     ]
    }
   ],
   "source": [
    "pokemon = Pokemon('1')\n",
    "print(pokemon.name)"
   ]
  },
  {
   "cell_type": "code",
   "execution_count": 3,
   "metadata": {},
   "outputs": [
    {
     "name": "stdout",
     "output_type": "stream",
     "text": [
      "Success\n"
     ]
    }
   ],
   "source": []
  },
  {
   "cell_type": "code",
   "execution_count": 11,
   "metadata": {},
   "outputs": [
    {
     "name": "stdout",
     "output_type": "stream",
     "text": [
      "This is the final form\n",
      "venusaur\n"
     ]
    },
    {
     "data": {
      "image/png": "[encoded data removed]",
      "text/plain": [
       "<IPython.core.display.Image object>"
      ]
     },
     "metadata": {},
     "output_type": "display_data"
    }
   ],
   "source": [
    "pokemon.evolve(pokemon.get_evolution_chain())\n",
    "print(pokemon.name)\n",
    "\n",
    "from IPython.display import Image\n",
    "\n",
    "display(Image(pokemon.image))"
   ]
  },
  {
   "cell_type": "code",
   "execution_count": null,
   "metadata": {},
   "outputs": [],
   "source": []
  },
  {
   "cell_type": "markdown",
   "metadata": {},
   "source": [
    "#  Final Exercise: <br> <br>Create a Move_Tutor Class that will allow the Pokemon Class to inherit a move list.\n",
    "<br>\n",
    "<p>for an added bonus you can make sure that if a pokemon has 4 moves the user can choose one of them to replace with a new move. </p>"
   ]
  },
  {
   "cell_type": "code",
   "execution_count": 19,
   "metadata": {},
   "outputs": [],
   "source": [
    "class Move_Tutor: # parent clas allowing pokemon clas to inherit from thi\n",
    "    def __init__(self):\n",
    "        self.move_list = []"
   ]
  },
  {
   "cell_type": "code",
   "execution_count": null,
   "metadata": {},
   "outputs": [],
   "source": []
  },
  {
   "cell_type": "code",
   "execution_count": 81,
   "metadata": {},
   "outputs": [
    {
     "name": "stdout",
     "output_type": "stream",
     "text": [
      "What move would you like to teach pikachu? spark\n",
      "pikachu learned spark!\n"
     ]
    }
   ],
   "source": [
    "pikachu.teach_move()\n"
   ]
  },
  {
   "cell_type": "code",
   "execution_count": 79,
   "metadata": {},
   "outputs": [
    {
     "name": "stdout",
     "output_type": "stream",
     "text": [
      "pikachu's moves'\n",
      "thunder\n",
      "surf\n",
      "earthquake\n"
     ]
    }
   ],
   "source": [
    "pikachu.show_moves()"
   ]
  }
 ],
 "metadata": {
  "kernelspec": {
   "display_name": "Python 3 (ipykernel)",
   "language": "python",
   "name": "python3"
  },
  "language_info": {
   "codemirror_mode": {
    "name": "ipython",
    "version": 3
   },
   "file_extension": ".py",
   "mimetype": "text/x-python",
   "name": "python",
   "nbconvert_exporter": "python",
   "pygments_lexer": "ipython3",
   "version": "3.9.13"
  }
 },
 "nbformat": 4,
 "nbformat_minor": 4
}
